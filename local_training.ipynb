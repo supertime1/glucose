{
 "cells": [
  {
   "cell_type": "markdown",
   "metadata": {},
   "source": [
    "### Notebook to train DL model locally"
   ]
  },
  {
   "cell_type": "code",
   "execution_count": null,
   "metadata": {},
   "outputs": [],
   "source": [
    "%%capture\n",
    "import tensorflow as tf\n",
    "from tensorflow.keras import Input, Model\n",
    "from tensorflow.keras.layers import Input, Dense\n",
    "\n",
    "from tensorflow.keras.initializers import glorot_uniform\n",
    "\n",
    "print(tf.__version__)\n",
    "import os\n",
    "import numpy as np\n",
    "import matplotlib.pyplot as plt\n",
    "from tensorflow.python.client import device_lib\n",
    "device_lib.list_local_devices()\n",
    "from typing import Tuple\n",
    "from pathlib import Path\n",
    "import glob\n",
    "\n",
    "\n",
    "from TFDataPreprocessor import TFDataPreprocessor\n",
    "from TFTrainer import TFTrainer\n",
    "%load_ext tensorboard\n",
    "\n",
    "mirrored_strategy = tf.distribute.MirroredStrategy()\n",
    "# cluster_resolver = tf.distribute.cluster_resolver.TPUClusterResolver()\n",
    "# tf.config.experimental_connect_to_cluster(cluster_resolver)\n",
    "# tf.tpu.experimental.initialize_tpu_system(cluster_resolver)\n",
    "# tpu_strategy = tf.distribute.TPUStrategy(cluster_resolver)"
   ]
  }
 ],
 "metadata": {
  "kernelspec": {
   "display_name": "Python 3.9.10 64-bit",
   "language": "python",
   "name": "python3"
  },
  "language_info": {
   "name": "python",
   "version": "3.9.10"
  },
  "orig_nbformat": 4,
  "vscode": {
   "interpreter": {
    "hash": "b0fa6594d8f4cbf19f97940f81e996739fb7646882a419484c72d19e05852a7e"
   }
  }
 },
 "nbformat": 4,
 "nbformat_minor": 2
}
